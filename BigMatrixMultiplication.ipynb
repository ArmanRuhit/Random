{
 "cells": [
  {
   "cell_type": "code",
   "execution_count": 1,
   "id": "3faa330b",
   "metadata": {
    "ExecuteTime": {
     "end_time": "2022-10-18T06:18:15.319429Z",
     "start_time": "2022-10-18T06:18:15.075169Z"
    }
   },
   "outputs": [
    {
     "data": {
      "application/javascript": [
       "if (!(\"Notification\" in window)) {\n",
       "    alert(\"This browser does not support desktop notifications, so the %%notify magic will not work.\");\n",
       "} else if (Notification.permission !== 'granted' && Notification.permission !== 'denied') {\n",
       "    Notification.requestPermission(function (permission) {\n",
       "        if(!('permission' in Notification)) {\n",
       "            Notification.permission = permission;\n",
       "        }\n",
       "    })\n",
       "}\n"
      ],
      "text/plain": [
       "<IPython.core.display.Javascript object>"
      ]
     },
     "metadata": {},
     "output_type": "display_data"
    }
   ],
   "source": [
    "%load_ext jupyternotify\n",
    "import random\n",
    "import numpy"
   ]
  },
  {
   "cell_type": "code",
   "execution_count": 2,
   "id": "0dd59e18",
   "metadata": {
    "ExecuteTime": {
     "end_time": "2022-10-18T06:25:56.136050Z",
     "start_time": "2022-10-18T06:18:16.164249Z"
    }
   },
   "outputs": [
    {
     "data": {
      "application/javascript": [
       "$(document).ready(\n",
       "    function() {\n",
       "        function appendUniqueDiv(){\n",
       "            // append a div with our uuid so we can check that it's already\n",
       "            // been sent and avoid duplicates on page reload\n",
       "            var notifiedDiv = document.createElement(\"div\")\n",
       "            notifiedDiv.id = \"1fcf4c0b-459e-4abf-b6ef-ffa0415a18bf\"\n",
       "            element.append(notifiedDiv)\n",
       "        }\n",
       "\n",
       "        // only send notifications if the pageload is complete; this will\n",
       "        // help stop extra notifications when a saved notebook is loaded,\n",
       "        // which during testing gives us state \"interactive\", not \"complete\"\n",
       "        if (document.readyState === 'complete') {\n",
       "            // check for the div that signifies that the notification\n",
       "            // was already sent\n",
       "            if (document.getElementById(\"1fcf4c0b-459e-4abf-b6ef-ffa0415a18bf\") === null) {\n",
       "                var notificationPayload = {\"requireInteraction\": false, \"icon\": \"/static/base/images/favicon.ico\", \"body\": \"Cell execution has finished!\"};\n",
       "                if (Notification.permission !== 'denied') {\n",
       "                    if (Notification.permission !== 'granted') { \n",
       "                        Notification.requestPermission(function (permission) {\n",
       "                            if(!('permission' in Notification)) {\n",
       "                                Notification.permission = permission\n",
       "                            }\n",
       "                        })\n",
       "                    }\n",
       "                    if (Notification.permission === 'granted') {\n",
       "                    var notification = new Notification(\"Jupyter Notebook\", notificationPayload)\n",
       "                    appendUniqueDiv()\n",
       "                    notification.onclick = function () {\n",
       "                        window.focus();\n",
       "                        this.close();\n",
       "                        };\n",
       "                    } \n",
       "                }     \n",
       "            }\n",
       "        }\n",
       "    }\n",
       ")\n"
      ],
      "text/plain": [
       "<IPython.core.display.Javascript object>"
      ]
     },
     "metadata": {},
     "output_type": "display_data"
    },
    {
     "name": "stdout",
     "output_type": "stream",
     "text": [
      "Wall time: 7min 39s\n"
     ]
    }
   ],
   "source": [
    "%%time\n",
    "%%notify\n",
    "# Generating Matrix\n",
    "dimension_of_a_matrix = 10000\n",
    "\n",
    "x = []\n",
    "y = []\n",
    "for i in range(dimension_of_a_matrix*dimension_of_a_matrix):\n",
    "    x.append(random.randint(1, 10))    \n",
    "    y.append(random.randint(1, 10))\n",
    "    \n",
    "x = numpy.array(x)\n",
    "y = numpy.array(y)\n",
    "\n",
    "x = x.reshape(dimension_of_a_matrix, dimension_of_a_matrix)\n",
    "y = y.reshape(dimension_of_a_matrix, dimension_of_a_matrix)"
   ]
  },
  {
   "cell_type": "code",
   "execution_count": 3,
   "id": "888861df",
   "metadata": {
    "ExecuteTime": {
     "end_time": "2022-10-18T07:40:44.840384Z",
     "start_time": "2022-10-18T06:26:04.102233Z"
    }
   },
   "outputs": [
    {
     "data": {
      "text/plain": [
       "array([[308789, 306904, 304785, ..., 305999, 305500, 306403],\n",
       "       [307588, 304874, 302779, ..., 303653, 303984, 302794],\n",
       "       [306414, 306219, 301359, ..., 303051, 304069, 303041],\n",
       "       ...,\n",
       "       [303480, 301832, 299480, ..., 301535, 300813, 299650],\n",
       "       [304389, 304015, 301126, ..., 303025, 303075, 302414],\n",
       "       [308151, 306694, 301455, ..., 302905, 306160, 304618]])"
      ]
     },
     "execution_count": 3,
     "metadata": {},
     "output_type": "execute_result"
    },
    {
     "data": {
      "application/javascript": [
       "$(document).ready(\n",
       "    function() {\n",
       "        function appendUniqueDiv(){\n",
       "            // append a div with our uuid so we can check that it's already\n",
       "            // been sent and avoid duplicates on page reload\n",
       "            var notifiedDiv = document.createElement(\"div\")\n",
       "            notifiedDiv.id = \"bf1af08e-4f01-4ac5-bf53-1f3b2cd67a3a\"\n",
       "            element.append(notifiedDiv)\n",
       "        }\n",
       "\n",
       "        // only send notifications if the pageload is complete; this will\n",
       "        // help stop extra notifications when a saved notebook is loaded,\n",
       "        // which during testing gives us state \"interactive\", not \"complete\"\n",
       "        if (document.readyState === 'complete') {\n",
       "            // check for the div that signifies that the notification\n",
       "            // was already sent\n",
       "            if (document.getElementById(\"bf1af08e-4f01-4ac5-bf53-1f3b2cd67a3a\") === null) {\n",
       "                var notificationPayload = {\"requireInteraction\": false, \"icon\": \"/static/base/images/favicon.ico\", \"body\": \"Cell execution has finished!\"};\n",
       "                if (Notification.permission !== 'denied') {\n",
       "                    if (Notification.permission !== 'granted') { \n",
       "                        Notification.requestPermission(function (permission) {\n",
       "                            if(!('permission' in Notification)) {\n",
       "                                Notification.permission = permission\n",
       "                            }\n",
       "                        })\n",
       "                    }\n",
       "                    if (Notification.permission === 'granted') {\n",
       "                    var notification = new Notification(\"Jupyter Notebook\", notificationPayload)\n",
       "                    appendUniqueDiv()\n",
       "                    notification.onclick = function () {\n",
       "                        window.focus();\n",
       "                        this.close();\n",
       "                        };\n",
       "                    } \n",
       "                }     \n",
       "            }\n",
       "        }\n",
       "    }\n",
       ")\n"
      ],
      "text/plain": [
       "<IPython.core.display.Javascript object>"
      ]
     },
     "metadata": {},
     "output_type": "display_data"
    },
    {
     "name": "stdout",
     "output_type": "stream",
     "text": [
      "Wall time: 1h 14min 40s\n"
     ]
    }
   ],
   "source": [
    "%%time\n",
    "%%notify\n",
    "#My Approach\n",
    "z = x.copy()\n",
    "for i in range(dimension_of_a_matrix):\n",
    "    a = x[i] * y.T\n",
    "    a = a.sum(axis=1)\n",
    "    z[i] = a\n",
    "z"
   ]
  },
  {
   "cell_type": "code",
   "execution_count": 5,
   "id": "c1ea4fc4",
   "metadata": {
    "ExecuteTime": {
     "end_time": "2022-10-18T13:49:58.504739Z",
     "start_time": "2022-10-18T10:35:30.231877Z"
    }
   },
   "outputs": [
    {
     "data": {
      "text/plain": [
       "array([[308789, 306904, 304785, ..., 305999, 305500, 306403],\n",
       "       [307588, 304874, 302779, ..., 303653, 303984, 302794],\n",
       "       [306414, 306219, 301359, ..., 303051, 304069, 303041],\n",
       "       ...,\n",
       "       [303480, 301832, 299480, ..., 301535, 300813, 299650],\n",
       "       [304389, 304015, 301126, ..., 303025, 303075, 302414],\n",
       "       [308151, 306694, 301455, ..., 302905, 306160, 304618]])"
      ]
     },
     "execution_count": 5,
     "metadata": {},
     "output_type": "execute_result"
    }
   ],
   "source": [
    "%%time\n",
    "%%notify\n",
    "#Default Approach\n",
    "x.dot(y)"
   ]
  },
  {
   "cell_type": "code",
   "execution_count": null,
   "id": "69cb41d2",
   "metadata": {},
   "outputs": [],
   "source": []
  }
 ],
 "metadata": {
  "kernelspec": {
   "display_name": "Python 3 (ipykernel)",
   "language": "python",
   "name": "python3"
  },
  "language_info": {
   "codemirror_mode": {
    "name": "ipython",
    "version": 3
   },
   "file_extension": ".py",
   "mimetype": "text/x-python",
   "name": "python",
   "nbconvert_exporter": "python",
   "pygments_lexer": "ipython3",
   "version": "3.8.13"
  },
  "toc": {
   "base_numbering": 1,
   "nav_menu": {},
   "number_sections": true,
   "sideBar": true,
   "skip_h1_title": false,
   "title_cell": "Table of Contents",
   "title_sidebar": "Contents",
   "toc_cell": false,
   "toc_position": {},
   "toc_section_display": true,
   "toc_window_display": false
  }
 },
 "nbformat": 4,
 "nbformat_minor": 5
}
